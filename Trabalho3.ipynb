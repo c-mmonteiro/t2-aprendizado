{
 "cells": [
  {
   "cell_type": "markdown",
   "id": "a1335836",
   "metadata": {},
   "source": [
    "# Trabalho 3: Classificação de Animais\n",
    "Disciplina: Aprendizado de Máquina\n",
    "\n",
    "Estudante: Carlos Monteiro"
   ]
  },
  {
   "cell_type": "markdown",
   "id": "f1a2eab2",
   "metadata": {},
   "source": []
  }
 ],
 "metadata": {
  "language_info": {
   "name": "python"
  }
 },
 "nbformat": 4,
 "nbformat_minor": 5
}
